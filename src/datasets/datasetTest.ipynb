{
 "cells": [
  {
   "cell_type": "code",
   "execution_count": 24,
   "metadata": {},
   "outputs": [
    {
     "name": "stdout",
     "output_type": "stream",
     "text": [
      "Total trajectories: 1\n"
     ]
    },
    {
     "data": {
      "image/png": "[encoded data removed]",
      "text/plain": [
       "<Figure size 800x800 with 1 Axes>"
      ]
     },
     "metadata": {},
     "output_type": "display_data"
    }
   ],
   "source": [
    "import minari\n",
    "import numpy as np\n",
    "import matplotlib.pyplot as plt\n",
    "\n",
    "dataset = minari.load_dataset(\"test3-v1\")\n",
    "episodes = list(dataset.iterate_episodes())\n",
    "\n",
    "print(f\"Total trajectories: {len(episodes)}\")\n",
    "\n",
    "plt.figure(figsize=(8, 8))\n",
    "\n",
    "for i, ep in enumerate(episodes):\n",
    "    try:\n",
    "        positions = np.array(ep.infos[\"qpos\"])\n",
    "        goals = np.array(ep.infos[\"goal\"])\n",
    "\n",
    "        plt.plot(*positions.T, label=f\"path {i}\", alpha=0.7)\n",
    "        plt.plot(*goals.T, 'rx')\n",
    "    except Exception as e:\n",
    "        print(f\"Skipping episode {i} due to error: {e}\")\n",
    "\n",
    "plt.axis(\"equal\")\n",
    "plt.title(\"All Maze2D Trajectories\")\n",
    "plt.xlabel(\"x\")\n",
    "plt.ylabel(\"y\")\n",
    "plt.grid(True)\n",
    "plt.legend(loc=\"best\", fontsize=\"small\", ncol=2)\n",
    "plt.show()\n"
   ]
  },
  {
   "cell_type": "code",
   "execution_count": 26,
   "metadata": {},
   "outputs": [
    {
     "ename": "ValueError",
     "evalue": "zero-dimensional arrays cannot be concatenated",
     "output_type": "error",
     "traceback": [
      "\u001b[0;31m---------------------------------------------------------------------------\u001b[0m",
      "\u001b[0;31mValueError\u001b[0m                                Traceback (most recent call last)",
      "Cell \u001b[0;32mIn[26], line 15\u001b[0m\n\u001b[1;32m     12\u001b[0m     action_list\u001b[38;5;241m.\u001b[39mappend(episode\u001b[38;5;241m.\u001b[39mactions)    \u001b[38;5;66;03m# shape (T, act_dim)\u001b[39;00m\n\u001b[1;32m     14\u001b[0m \u001b[38;5;66;03m# ✅ Convert to tensors\u001b[39;00m\n\u001b[0;32m---> 15\u001b[0m obs_tensor \u001b[38;5;241m=\u001b[39m torch\u001b[38;5;241m.\u001b[39mtensor(\u001b[43mnp\u001b[49m\u001b[38;5;241;43m.\u001b[39;49m\u001b[43mconcatenate\u001b[49m\u001b[43m(\u001b[49m\u001b[43mobs_list\u001b[49m\u001b[43m)\u001b[49m, dtype\u001b[38;5;241m=\u001b[39mtorch\u001b[38;5;241m.\u001b[39mfloat32)\n\u001b[1;32m     16\u001b[0m action_tensor \u001b[38;5;241m=\u001b[39m torch\u001b[38;5;241m.\u001b[39mtensor(np\u001b[38;5;241m.\u001b[39mconcatenate(action_list), dtype\u001b[38;5;241m=\u001b[39mtorch\u001b[38;5;241m.\u001b[39mfloat32)\n\u001b[1;32m     18\u001b[0m \u001b[38;5;66;03m# ✅ Build dataset & loader\u001b[39;00m\n",
      "\u001b[0;31mValueError\u001b[0m: zero-dimensional arrays cannot be concatenated"
     ]
    }
   ],
   "source": [
    "import torch\n",
    "from torch.utils.data import DataLoader, TensorDataset\n",
    "import numpy as np\n",
    "\n",
    "\n",
    "episodes = list(dataset.iterate_episodes())\n",
    "\n",
    "obs_list, action_list = [], []\n",
    "\n",
    "for episode in episodes:\n",
    "    obs_list.append(episode.observations)  # shape (T, obs_dim)\n",
    "    action_list.append(episode.actions)    # shape (T, act_dim)\n",
    "\n",
    "# ✅ Convert to tensors\n",
    "obs_tensor = torch.tensor(np.concatenate(obs_list), dtype=torch.float32)\n",
    "action_tensor = torch.tensor(np.concatenate(action_list), dtype=torch.float32)\n",
    "\n",
    "# ✅ Build dataset & loader\n",
    "maze_dataset = TensorDataset(obs_tensor, action_tensor)\n",
    "dataloader = DataLoader(maze_dataset, batch_size=128, shuffle=True)\n",
    "\n",
    "# ✅ Preview sample\n",
    "for obs_batch, action_batch in dataloader:\n",
    "    print(\"Observation Batch Shape:\", obs_batch.shape)\n",
    "    print(\"Action Batch Shape:\", action_batch.shape)\n",
    "    break"
   ]
  },
  {
   "cell_type": "code",
   "execution_count": 10,
   "metadata": {},
   "outputs": [
    {
     "ename": "ModuleNotFoundError",
     "evalue": "No module named 'd4rl'",
     "output_type": "error",
     "traceback": [
      "\u001b[0;31m---------------------------------------------------------------------------\u001b[0m",
      "\u001b[0;31mModuleNotFoundError\u001b[0m                       Traceback (most recent call last)",
      "Cell \u001b[0;32mIn[10], line 1\u001b[0m\n\u001b[0;32m----> 1\u001b[0m \u001b[38;5;28;01mimport\u001b[39;00m\u001b[38;5;250m \u001b[39m\u001b[38;5;21;01md4rl\u001b[39;00m\n\u001b[1;32m      2\u001b[0m \u001b[38;5;28;01mimport\u001b[39;00m\u001b[38;5;250m \u001b[39m\u001b[38;5;21;01mgym\u001b[39;00m\n\u001b[1;32m      4\u001b[0m env \u001b[38;5;241m=\u001b[39m gym\u001b[38;5;241m.\u001b[39mmake(\u001b[38;5;124m\"\u001b[39m\u001b[38;5;124mmaze2d-umaze-v1\u001b[39m\u001b[38;5;124m\"\u001b[39m)  \u001b[38;5;66;03m# will auto-download dataset\u001b[39;00m\n",
      "\u001b[0;31mModuleNotFoundError\u001b[0m: No module named 'd4rl'"
     ]
    }
   ],
   "source": [
    "import d4rl\n",
    "import gym\n",
    "\n",
    "env = gym.make(\"maze2d-umaze-v1\")  # will auto-download dataset\n",
    "dataset = env.get_dataset()\n",
    "print(dataset.keys())  # includes observations, actions, rewards, terminals, etc.\n"
   ]
  },
  {
   "cell_type": "code",
   "execution_count": 11,
   "metadata": {},
   "outputs": [
    {
     "ename": "NameError",
     "evalue": "name 'dataset' is not defined",
     "output_type": "error",
     "traceback": [
      "\u001b[0;31m---------------------------------------------------------------------------\u001b[0m",
      "\u001b[0;31mNameError\u001b[0m                                 Traceback (most recent call last)",
      "Cell \u001b[0;32mIn[11], line 2\u001b[0m\n\u001b[1;32m      1\u001b[0m \u001b[38;5;66;03m# Get the first episode\u001b[39;00m\n\u001b[0;32m----> 2\u001b[0m episode \u001b[38;5;241m=\u001b[39m \u001b[43mdataset\u001b[49m\u001b[38;5;241m.\u001b[39mepisodes[\u001b[38;5;241m0\u001b[39m]\n\u001b[1;32m      4\u001b[0m \u001b[38;5;66;03m# Print basic episode details\u001b[39;00m\n\u001b[1;32m      5\u001b[0m \u001b[38;5;28mprint\u001b[39m(\u001b[38;5;124m\"\u001b[39m\u001b[38;5;124mNumber of steps:\u001b[39m\u001b[38;5;124m\"\u001b[39m, \u001b[38;5;28mlen\u001b[39m(episode\u001b[38;5;241m.\u001b[39mobservations))\n",
      "\u001b[0;31mNameError\u001b[0m: name 'dataset' is not defined"
     ]
    }
   ],
   "source": [
    "# Get the first episode\n",
    "episode = dataset.episodes[0]\n",
    "\n",
    "# Print basic episode details\n",
    "print(\"Number of steps:\", len(episode.observations))\n",
    "print(\"First observation:\", episode.observations[0])\n",
    "print(\"First action:\", episode.actions[0])\n",
    "print(\"First reward:\", episode.rewards[0])\n",
    "print(\"Episode terminated?\", episode.terminations[-1])"
   ]
  }
 ],
 "metadata": {
  "kernelspec": {
   "display_name": "Python 3",
   "language": "python",
   "name": "python3"
  },
  "language_info": {
   "codemirror_mode": {
    "name": "ipython",
    "version": 3
   },
   "file_extension": ".py",
   "mimetype": "text/x-python",
   "name": "python",
   "nbconvert_exporter": "python",
   "pygments_lexer": "ipython3",
   "version": "3.9.21"
  }
 },
 "nbformat": 4,
 "nbformat_minor": 2
}
