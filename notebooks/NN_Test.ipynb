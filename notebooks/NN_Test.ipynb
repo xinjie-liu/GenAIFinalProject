{
 "cells": [
  {
   "cell_type": "code",
   "execution_count": 1,
   "metadata": {},
   "outputs": [],
   "source": [
    "import mujoco\n",
    "import minari\n",
    "import gymnasium as gym\n",
    "from minari import DataCollector"
   ]
  },
  {
   "cell_type": "code",
   "execution_count": 2,
   "metadata": {},
   "outputs": [],
   "source": [
    "dataset = minari.load_dataset(\"D4RL/door/human-v2\", download=True )"
   ]
  },
  {
   "cell_type": "code",
   "execution_count": 4,
   "metadata": {},
   "outputs": [],
   "source": [
    "\n",
    "env = gym.make('FrozenLake-v1')\n",
    "env = DataCollector(env)\n",
    "\n",
    "for _ in range(100):\n",
    "    env.reset()\n",
    "    done = False\n",
    "    while not done:\n",
    "        action = env.action_space.sample()  # <- use your policy here\n",
    "        obs, rew, terminated, truncated, info = env.step(action)\n",
    "        done = terminated or truncated\n"
   ]
  },
  {
   "cell_type": "markdown",
   "metadata": {},
   "source": [
    "Testing for Importing the NN "
   ]
  },
  {
   "cell_type": "code",
   "execution_count": 10,
   "metadata": {},
   "outputs": [],
   "source": [
    "from network import *\n",
    "import torch"
   ]
  },
  {
   "cell_type": "code",
   "execution_count": 11,
   "metadata": {},
   "outputs": [
    {
     "name": "stdout",
     "output_type": "stream",
     "text": [
      "torch.Size([32, 3, 32])\n",
      "torch.Size([32, 1])\n"
     ]
    }
   ],
   "source": [
    "# Example usage\n",
    "batch_size = 32\n",
    "time_steps = 128\n",
    "in_channels = 3  # Example input channels\n",
    "out_channels = 3  # Example output channels\n",
    "seq_length = 32\n",
    "\n",
    "test_input = torch.randn(batch_size, in_channels, seq_length)\n",
    "test_timestep = torch.randn(batch_size, time_steps)\n",
    "\n",
    "model = UNet(in_channels, out_channels)\n",
    "output = model(test_input, test_timestep)\n",
    "print(output.shape)  # Should match (batch_size, out_channels, seq_length)\n",
    "\n",
    "return_predictor = ReturnPredictor(in_channels)\n",
    "return_output = return_predictor(test_input, test_timestep)\n",
    "print(return_output.shape)  # Should match (batch_size, 1)"
   ]
  }
 ],
 "metadata": {
  "kernelspec": {
   "display_name": "genvenv",
   "language": "python",
   "name": "python3"
  },
  "language_info": {
   "codemirror_mode": {
    "name": "ipython",
    "version": 3
   },
   "file_extension": ".py",
   "mimetype": "text/x-python",
   "name": "python",
   "nbconvert_exporter": "python",
   "pygments_lexer": "ipython3",
   "version": "3.10.12"
  }
 },
 "nbformat": 4,
 "nbformat_minor": 2
}
