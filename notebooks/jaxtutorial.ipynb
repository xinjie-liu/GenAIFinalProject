{
 "cells": [
  {
   "cell_type": "markdown",
   "metadata": {},
   "source": [
    "# Imports\n"
   ]
  },
  {
   "cell_type": "code",
   "execution_count": 4,
   "metadata": {},
   "outputs": [],
   "source": [
    "import jax.numpy as jnp\n",
    "import jax"
   ]
  },
  {
   "cell_type": "markdown",
   "metadata": {},
   "source": [
    "# Jax Tutorial Basics"
   ]
  },
  {
   "cell_type": "code",
   "execution_count": 2,
   "metadata": {},
   "outputs": [
    {
     "data": {
      "text/plain": [
       "Array([[0., 0., 0., 0., 0.],\n",
       "       [0., 0., 0., 0., 0.],\n",
       "       [0., 0., 0., 0., 0.],\n",
       "       [0., 0., 0., 0., 0.],\n",
       "       [0., 0., 0., 0., 0.],\n",
       "       [0., 0., 0., 0., 0.],\n",
       "       [0., 0., 0., 0., 0.],\n",
       "       [0., 0., 0., 0., 0.],\n",
       "       [0., 0., 0., 0., 0.],\n",
       "       [0., 0., 0., 0., 0.]], dtype=float32)"
      ]
     },
     "execution_count": 2,
     "metadata": {},
     "output_type": "execute_result"
    }
   ],
   "source": [
    "jnp.zeros(shape=(10,5))"
   ]
  },
  {
   "cell_type": "code",
   "execution_count": 13,
   "metadata": {},
   "outputs": [
    {
     "name": "stdout",
     "output_type": "stream",
     "text": [
      "[[4.5338445e-05 4.1128937e-05 4.3717992e-05 ... 4.6037436e-05\n",
      "  3.9925937e-05 3.9466235e-05]\n",
      " [4.0832503e-05 5.2905860e-05 3.8572816e-05 ... 4.3123215e-05\n",
      "  6.3363841e-05 4.0338124e-05]\n",
      " [4.5396722e-05 5.3326970e-05 3.9350503e-05 ... 5.8048146e-05\n",
      "  4.2621217e-05 4.6469559e-05]\n",
      " ...\n",
      " [4.3514236e-05 5.5165216e-05 5.5767734e-05 ... 4.7878770e-05\n",
      "  4.5894845e-05 5.1567571e-05]\n",
      " [5.8635400e-05 3.8818544e-05 5.1258208e-05 ... 5.6500277e-05\n",
      "  5.4009601e-05 4.4502205e-05]\n",
      " [4.1771575e-05 4.4697372e-05 4.6291963e-05 ... 4.1309508e-05\n",
      "  5.5091899e-05 4.0407263e-05]]\n",
      "[1.0000001  0.99999994 1.         ... 1.0000001  0.99999994 1.        ]\n"
     ]
    }
   ],
   "source": [
    "@jax.jit\n",
    "def softmax(array, temp=2.0):\n",
    "    arr = jnp.exp(array / temp)\n",
    "    return arr/ jnp.sum(arr, axis=-1, keepdims=True)\n",
    "# Cant jhust jit enveryhting, no while loops and conditionals for now\n",
    "\n",
    "key = jax.random.key(50)\n",
    "k, sk = jax.random.split(key)\n",
    "print(softmax(jax.random.uniform(sk, shape=(100000,20000))))\n",
    "print(softmax(jax.random.uniform(sk, shape=(100000,20000))).sum(axis=-1))"
   ]
  },
  {
   "cell_type": "code",
   "execution_count": 91,
   "metadata": {},
   "outputs": [
    {
     "name": "stdout",
     "output_type": "stream",
     "text": [
      "(10000, 3, 3)\n",
      "(10000, 12, 12)\n",
      "Time taken to compute: 0.5043902397155762 seconds\n",
      "(10000, 3, 3)\n",
      "(10000, 12, 12)\n",
      "Time taken to compute: 0.6596851348876953 seconds\n"
     ]
    }
   ],
   "source": [
    "# Experiments with vmap\n",
    "# Convolution \n",
    "\n",
    "# Input 3D array (batch, dim1, dim2), kernel (batch, k1, k2)\n",
    "\n",
    "@jax.jit\n",
    "def convolve(array, kernel, answer):\n",
    "    b,k1,k2 = kernel.shape\n",
    "    for j in range(answer.shape[1]):\n",
    "        for k in range(answer.shape[2]):\n",
    "            cov = jnp.multiply(array[:, j:j+k1, k:k+k2], kernel).sum(axis=-1).sum(axis=-1)\n",
    "            answer = answer.at[:, j, k].set(cov)\n",
    "    \n",
    "    return answer   \n",
    "\n",
    "def convolve2D(array, kernel, padding =  False):\n",
    "    if kernel.ndim == 2:\n",
    "        kernel = jnp.tile(kernel, (array.shape[0], 1, 1)) \n",
    "        print(kernel.shape)\n",
    "    \n",
    "    if padding:\n",
    "        answer = jnp.zeros(shape = (array.shape))\n",
    "        pad_width = [(0,0)] + [((k-1)//2, (k-1)//2 + (1 if k%2==0 else 0)) for k in kernel.shape[1:]]\n",
    "        array = jnp.pad(array, pad_width=pad_width, mode='constant', constant_values=0)\n",
    "        print(array.shape)\n",
    "        \n",
    "\n",
    "    else:\n",
    "        shape = [array.shape[0], array.shape[1] - 2*((kernel.shape[1]-1)//2), array.shape[2] - 2*((kernel.shape[1]-1)//2)]\n",
    "        answer = jnp.zeros(shape= shape)\n",
    "        print(answer.shape)\n",
    "    \n",
    "    return convolve(array, kernel, answer)\n",
    "\n",
    "@jax.jit\n",
    "def convolve2(array, kernel, answer):\n",
    "    k1,k2 = kernel.shape\n",
    "    for j in range(answer.shape[0]):\n",
    "        for k in range(answer.shape[1]):\n",
    "            cov = jnp.multiply(array[j:j+k1, k:k+k2], kernel).sum(axis=-1).sum(axis=-1)\n",
    "            answer = answer.at[j, k].set(cov)\n",
    "    \n",
    "    return answer \n",
    "\n",
    "def convolve2D2(array, kernel, padding=False):\n",
    "\n",
    "    if kernel.ndim == 2:\n",
    "        kernel = jnp.tile(kernel, (array.shape[0], 1, 1)) \n",
    "        print(kernel.shape)\n",
    "        \n",
    "    if padding:\n",
    "        answer = jnp.zeros(shape = (array.shape))\n",
    "        pad_width = [(0,0)] + [((k-1)//2, (k-1)//2 + (1 if k%2==0 else 0)) for k in kernel.shape[1:]]\n",
    "        array = jnp.pad(array, pad_width=pad_width, mode='constant', constant_values=0)\n",
    "        print(array.shape)\n",
    "        \n",
    "\n",
    "    else:\n",
    "        shape = [array.shape[0], array.shape[1] - 2*((kernel.shape[1]-1)//2), array.shape[2] - 2*((kernel.shape[1]-1)//2)]\n",
    "        answer = jnp.zeros(shape= shape)\n",
    "        print(answer.shape)\n",
    "    \n",
    "    convolve2batch = jax.vmap(convolve2)\n",
    "    return convolve2batch(array, kernel, answer)\n",
    "\n",
    "array = jnp.tile(jnp.arange(10), (10000, 10, 1))\n",
    "\n",
    "kernel = jnp.array([[1,1,1],[1,1,1], [1,1,1]])\n",
    "\n",
    "import time\n",
    "start_time = time.time()\n",
    "result = convolve2D(array, kernel, padding= True)\n",
    "print(f\"Time taken to compute: {time.time() - start_time} seconds\")\n",
    "\n",
    "\n",
    "# convolve2Dbatch = jax.vmap(convolve2D2)\n",
    "\n",
    "import time\n",
    "start_time = time.time()\n",
    "result = convolve2D2(array, kernel, padding= True)\n",
    "print(f\"Time taken to compute: {time.time() - start_time} seconds\")\n",
    "\n",
    "# Speedup is insane, mrola of the story do element wise computation, for each batch basically just do a vmap\n",
    "# Recurrent neural network\n"
   ]
  },
  {
   "cell_type": "code",
   "execution_count": null,
   "metadata": {},
   "outputs": [],
   "source": [
    "# Experiments with vmap\n",
    "# Recurrent Neural Network\n",
    "# Input 3D array (batch, dim1, dim2), kernel (batch, k1, k2)\n",
    "\n"
   ]
  },
  {
   "cell_type": "markdown",
   "metadata": {},
   "source": [
    "# Networks\n"
   ]
  }
 ],
 "metadata": {
  "kernelspec": {
   "display_name": "diffpol",
   "language": "python",
   "name": "python3"
  },
  "language_info": {
   "codemirror_mode": {
    "name": "ipython",
    "version": 3
   },
   "file_extension": ".py",
   "mimetype": "text/x-python",
   "name": "python",
   "nbconvert_exporter": "python",
   "pygments_lexer": "ipython3",
   "version": "3.10.13"
  }
 },
 "nbformat": 4,
 "nbformat_minor": 2
}
